{
 "cells": [
  {
   "cell_type": "code",
   "execution_count": 32,
   "metadata": {},
   "outputs": [],
   "source": [
    "import numpy as np\n",
    "import pandas as pd\n",
    "import os\n",
    "import datetime"
   ]
  },
  {
   "cell_type": "code",
   "execution_count": 33,
   "metadata": {},
   "outputs": [],
   "source": [
    "data=pd.read_csv(\"Sample.csv\")\n",
    "#data.describe()"
   ]
  },
  {
   "cell_type": "code",
   "execution_count": 34,
   "metadata": {},
   "outputs": [
    {
     "data": {
      "text/plain": [
       "{'AK', 'AL', 'MT', 'NC', 'ND', 'NE'}"
      ]
     },
     "execution_count": 34,
     "metadata": {},
     "output_type": "execute_result"
    }
   ],
   "source": [
    "UniqueStates=set(data.State)\n",
    "UniqueStates"
   ]
  },
  {
   "cell_type": "code",
   "execution_count": 35,
   "metadata": {},
   "outputs": [],
   "source": [
    "#States=data['State'].unique()\n",
    "#States=States.tolist()\n",
    "#States"
   ]
  },
  {
   "cell_type": "code",
   "execution_count": 36,
   "metadata": {},
   "outputs": [
    {
     "data": {
      "text/plain": [
       "10"
      ]
     },
     "execution_count": 36,
     "metadata": {},
     "output_type": "execute_result"
    }
   ],
   "source": [
    "data\n",
    "ColumnCount=len(data.columns)\n",
    "ColumnCount "
   ]
  },
  {
   "cell_type": "code",
   "execution_count": 37,
   "metadata": {},
   "outputs": [],
   "source": [
    "data.insert(ColumnCount,'TimeStamp',datetime.datetime.now().replace(microsecond=0))\n",
    "#data\n",
    "    "
   ]
  },
  {
   "cell_type": "code",
   "execution_count": 59,
   "metadata": {},
   "outputs": [
    {
     "data": {
      "text/plain": [
       "{'Filename': '', 'FileCount': 0}"
      ]
     },
     "execution_count": 59,
     "metadata": {},
     "output_type": "execute_result"
    }
   ],
   "source": [
    "Filepath = \"d:\\\\project\\\\foldername\\\\\"\n",
    "Mainfile = 'Mainfile.txt'\n",
    "dfMain =pd.DataFrame(columns=['Filename','Count'])\n",
    "dfMain\n",
    "#dfMain.to_csv(Mainfile, header=None, index=None, sep=',', mode='a')\n",
    "dict1=dict()\n",
    "dict1\n",
    "dict1[\"Filename\"]=\"\"\n",
    "dict1[\"FileCount\"]=0\n",
    "dict1"
   ]
  },
  {
   "cell_type": "code",
   "execution_count": 65,
   "metadata": {},
   "outputs": [],
   "source": [
    "for i in UniqueStates:  \n",
    "    #os.mkdir(i)\n",
    "    filename=i+'.csv'\n",
    "    output_file=os.path.join(i,filename)\n",
    "    #print(output_file)   \n",
    "    fileCount=len(data[data['State']==i])\n",
    "    #print(fileCount)   \n",
    "    dict1.update([(\"Filename\",output_file),(\"FileCount\",fileCount)])\n",
    "    dict1\n",
    "    df2=pd.DataFrame(dfMain,index=['a','b'])    \n",
    "    df3 = df2.drop_duplicates(subset=['Filename'])\n",
    "    data[data['State']==i].to_csv(\"output_file.csv\",index=False)\n",
    "\n",
    "#finally write to main file    \n",
    "    df3.to_csv(\"Mainfile.csv\", header=None, index=None, sep=',', mode='a')\n",
    " \n",
    "     \n",
    "   \n",
    "   "
   ]
  },
  {
   "cell_type": "code",
   "execution_count": null,
   "metadata": {},
   "outputs": [],
   "source": []
  },
  {
   "cell_type": "code",
   "execution_count": null,
   "metadata": {},
   "outputs": [],
   "source": []
  }
 ],
 "metadata": {
  "kernelspec": {
   "display_name": "Python 3 (ipykernel)",
   "language": "python",
   "name": "python3"
  },
  "language_info": {
   "codemirror_mode": {
    "name": "ipython",
    "version": 3
   },
   "file_extension": ".py",
   "mimetype": "text/x-python",
   "name": "python",
   "nbconvert_exporter": "python",
   "pygments_lexer": "ipython3",
   "version": "3.9.8"
  }
 },
 "nbformat": 4,
 "nbformat_minor": 4
}
